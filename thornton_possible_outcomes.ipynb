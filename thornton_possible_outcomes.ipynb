{
  "nbformat": 4,
  "nbformat_minor": 0,
  "metadata": {
    "colab": {
      "provenance": [],
      "authorship_tag": "ABX9TyOpn6blb4Gx8bTVhjD0+IYV",
      "include_colab_link": true
    },
    "kernelspec": {
      "name": "python3",
      "display_name": "Python 3"
    },
    "language_info": {
      "name": "python"
    }
  },
  "cells": [
    {
      "cell_type": "markdown",
      "metadata": {
        "id": "view-in-github",
        "colab_type": "text"
      },
      "source": [
        "<a href=\"https://colab.research.google.com/github/aragornchunletia/Mixtape/blob/main/thornton_possible_outcomes.ipynb\" target=\"_parent\"><img src=\"https://colab.research.google.com/assets/colab-badge.svg\" alt=\"Open In Colab\"/></a>"
      ]
    },
    {
      "cell_type": "code",
      "source": [
        "import numpy as np\n",
        "import pandas as pd\n",
        "import matplotlib.pyplot as plt\n",
        "import seaborn as sns\n",
        "import statsmodels.api as sm\n",
        "from scipy import stats\n",
        "import warnings\n",
        "warnings.filterwarnings('ignore')"
      ],
      "metadata": {
        "id": "ZNO1AonwOv7-"
      },
      "execution_count": 1,
      "outputs": []
    },
    {
      "cell_type": "code",
      "source": [
        "def gap():\n",
        "  y1 = np.array([7,5,5,7,4,10,1,5,3,9])\n",
        "  y0 = np.array([1,6,1,8,2,1,10,6,7,8])\n",
        "  mat = np.array([y1, y0]).T\n",
        "  np.random.shuffle( mat)\n",
        "  d = np.concatenate((np.ones(5), np.zeros(5)))\n",
        "  y = d*mat[:,0] + (1-d)*mat[:,1]\n",
        "  sdo = np.mean(y[0:5] - y[5:])\n",
        "  return sdo\n",
        "\n",
        "\n"
      ],
      "metadata": {
        "id": "ixViuP9GQEoC"
      },
      "execution_count": 21,
      "outputs": []
    },
    {
      "cell_type": "code",
      "source": [
        "simulation = [gap() for _ in range(10000)]"
      ],
      "metadata": {
        "id": "PQUgBhmeXgGg"
      },
      "execution_count": 23,
      "outputs": []
    },
    {
      "cell_type": "code",
      "source": [
        "sns.histplot(simulation, kde = True)\n",
        "plt.show()"
      ],
      "metadata": {
        "colab": {
          "base_uri": "https://localhost:8080/",
          "height": 430
        },
        "id": "fyI35NLQXpsj",
        "outputId": "952dc412-ce52-435f-e31b-b682265e763d"
      },
      "execution_count": 24,
      "outputs": [
        {
          "output_type": "display_data",
          "data": {
            "text/plain": [
              "<Figure size 640x480 with 1 Axes>"
            ],
            "image/png": "[encoded data removed]"
          },
          "metadata": {}
        }
      ]
    },
    {
      "cell_type": "code",
      "source": [
        "simulation_mean = np.mean(simulation)\n",
        "print(f\"Simulation mean: {simulation_mean:.3f}\")"
      ],
      "metadata": {
        "colab": {
          "base_uri": "https://localhost:8080/"
        },
        "id": "vWkpFGgdX7h6",
        "outputId": "19107586-6cc4-4ac6-accc-a30d0d39a444"
      },
      "execution_count": 25,
      "outputs": [
        {
          "output_type": "stream",
          "name": "stdout",
          "text": [
            "Simulation mean: 0.591\n"
          ]
        }
      ]
    },
    {
      "cell_type": "markdown",
      "source": [
        "Thornton"
      ],
      "metadata": {
        "id": "vS0ne8_Af8ir"
      }
    },
    {
      "cell_type": "code",
      "source": [
        "thr_data = pd.read_stata('/content/thornton_hiv.dta')"
      ],
      "metadata": {
        "id": "HN1ZKXUnk4Gx"
      },
      "execution_count": 10,
      "outputs": []
    },
    {
      "cell_type": "code",
      "source": [
        "thr_data.shape"
      ],
      "metadata": {
        "colab": {
          "base_uri": "https://localhost:8080/"
        },
        "id": "oHnCfKFWalZJ",
        "outputId": "5feb46b0-f7e3-4e3c-c361-bce61a9c88bf"
      },
      "execution_count": 12,
      "outputs": [
        {
          "output_type": "execute_result",
          "data": {
            "text/plain": [
              "(4820, 133)"
            ]
          },
          "metadata": {},
          "execution_count": 12
        }
      ]
    },
    {
      "cell_type": "code",
      "source": [],
      "metadata": {
        "id": "I7z0Dx5GzPFn"
      },
      "execution_count": null,
      "outputs": []
    },
    {
      "cell_type": "code",
      "source": [
        "thr_data.describe()"
      ],
      "metadata": {
        "colab": {
          "base_uri": "https://localhost:8080/",
          "height": 349
        },
        "id": "4MnoOiyplT1C",
        "outputId": "814d7be2-c610-4b2d-db84-5e48f411be64"
      },
      "execution_count": 15,
      "outputs": [
        {
          "output_type": "execute_result",
          "data": {
            "text/plain": [
              "              site       rumphi       balaka      villnum        m1out  \\\n",
              "count  4820.000000  4820.000000  4820.000000  4793.000000  2880.000000   \n",
              "mean      2.014730     0.340664     0.333402    63.477571     2.505208   \n",
              "std       0.816393     0.473991     0.471475    48.311774     1.406569   \n",
              "min       1.000000     0.000000     0.000000     1.000000     0.000000   \n",
              "25%       1.000000     0.000000     0.000000    14.000000     2.000000   \n",
              "50%       2.000000     0.000000     0.000000    57.000000     2.000000   \n",
              "75%       3.000000     1.000000     1.000000   111.000000     2.000000   \n",
              "max       3.000000     1.000000     1.000000   145.000000    13.000000   \n",
              "\n",
              "             m2out   survey2004          got         zone      distvct  ...  \\\n",
              "count  2959.000000  4820.000000  2894.000000  4792.000000  4820.000000  ...   \n",
              "mean      2.246705     0.677801     0.696614     9.771494     2.002633  ...   \n",
              "std       0.813588     0.467370     0.459799     4.339750     1.256523  ...   \n",
              "min       0.000000     0.000000     0.000000     1.000000     0.000000  ...   \n",
              "25%       2.000000     0.000000     0.000000     6.000000     1.029921  ...   \n",
              "50%       2.000000     1.000000     1.000000    10.000000     1.674839  ...   \n",
              "75%       2.000000     1.000000     1.000000    13.000000     2.742947  ...   \n",
              "max       9.000000     1.000000     1.000000    16.000000     5.191559  ...   \n",
              "\n",
              "       under_havesex_fo_hiv  over_havesex_fo_hiv  hiv_havesex_fo  \\\n",
              "count           1528.000000          1528.000000     1528.000000   \n",
              "mean               0.016361             0.013743        0.030105   \n",
              "std                0.131960             0.121956        0.178431   \n",
              "min               -1.000000            -1.000000       -1.000000   \n",
              "25%                0.000000             0.000000        0.000000   \n",
              "50%                0.000000             0.000000        0.000000   \n",
              "75%                0.000000             0.000000        0.000000   \n",
              "max                1.000000             1.000000        1.000000   \n",
              "\n",
              "       havesex_fo_hiv  any_havesex_fo_male  tinc_havesex_fo_male  \\\n",
              "count     1528.000000          1539.000000           1539.000000   \n",
              "mean         0.030105             0.224172              0.303342   \n",
              "std          0.178431             0.417169              0.687894   \n",
              "min         -1.000000             0.000000              0.000000   \n",
              "25%          0.000000             0.000000              0.000000   \n",
              "50%          0.000000             0.000000              0.000000   \n",
              "75%          0.000000             0.000000              0.000000   \n",
              "max          1.000000             1.000000              2.836800   \n",
              "\n",
              "       under_havesex_fo_male  tinc_male_hadsex12  under_male_hadsex12  \\\n",
              "count            1592.000000         2416.000000          2962.000000   \n",
              "mean                0.103015            0.334443             0.148211   \n",
              "std                 0.304074            0.700776             0.355373   \n",
              "min                 0.000000            0.000000             0.000000   \n",
              "25%                 0.000000            0.000000             0.000000   \n",
              "50%                 0.000000            0.000000             0.000000   \n",
              "75%                 0.000000            0.189120             0.000000   \n",
              "max                 1.000000            2.836800             1.000000   \n",
              "\n",
              "       MainSample  \n",
              "count      2812.0  \n",
              "mean          1.0  \n",
              "std           0.0  \n",
              "min           1.0  \n",
              "25%           1.0  \n",
              "50%           1.0  \n",
              "75%           1.0  \n",
              "max           1.0  \n",
              "\n",
              "[8 rows x 127 columns]"
            ],
            "text/html": [
              "\n",
              "  <div id=\"df-5f986308-e81c-4177-85d3-18f12a1c5480\" class=\"colab-df-container\">\n",
              "    <div>\n",
              "<style scoped>\n",
              "    .dataframe tbody tr th:only-of-type {\n",
              "        vertical-align: middle;\n",
              "    }\n",
              "\n",
              "    .dataframe tbody tr th {\n",
              "        vertical-align: top;\n",
              "    }\n",
              "\n",
              "    .dataframe thead th {\n",
              "        text-align: right;\n",
              "    }\n",
              "</style>\n",
              "<table border=\"1\" class=\"dataframe\">\n",
              "  <thead>\n",
              "    <tr style=\"text-align: right;\">\n",
              "      <th></th>\n",
              "      <th>site</th>\n",
              "      <th>rumphi</th>\n",
              "      <th>balaka</th>\n",
              "      <th>villnum</th>\n",
              "      <th>m1out</th>\n",
              "      <th>m2out</th>\n",
              "      <th>survey2004</th>\n",
              "      <th>got</th>\n",
              "      <th>zone</th>\n",
              "      <th>distvct</th>\n",
              "      <th>...</th>\n",
              "      <th>under_havesex_fo_hiv</th>\n",
              "      <th>over_havesex_fo_hiv</th>\n",
              "      <th>hiv_havesex_fo</th>\n",
              "      <th>havesex_fo_hiv</th>\n",
              "      <th>any_havesex_fo_male</th>\n",
              "      <th>tinc_havesex_fo_male</th>\n",
              "      <th>under_havesex_fo_male</th>\n",
              "      <th>tinc_male_hadsex12</th>\n",
              "      <th>under_male_hadsex12</th>\n",
              "      <th>MainSample</th>\n",
              "    </tr>\n",
              "  </thead>\n",
              "  <tbody>\n",
              "    <tr>\n",
              "      <th>count</th>\n",
              "      <td>4820.000000</td>\n",
              "      <td>4820.000000</td>\n",
              "      <td>4820.000000</td>\n",
              "      <td>4793.000000</td>\n",
              "      <td>2880.000000</td>\n",
              "      <td>2959.000000</td>\n",
              "      <td>4820.000000</td>\n",
              "      <td>2894.000000</td>\n",
              "      <td>4792.000000</td>\n",
              "      <td>4820.000000</td>\n",
              "      <td>...</td>\n",
              "      <td>1528.000000</td>\n",
              "      <td>1528.000000</td>\n",
              "      <td>1528.000000</td>\n",
              "      <td>1528.000000</td>\n",
              "      <td>1539.000000</td>\n",
              "      <td>1539.000000</td>\n",
              "      <td>1592.000000</td>\n",
              "      <td>2416.000000</td>\n",
              "      <td>2962.000000</td>\n",
              "      <td>2812.0</td>\n",
              "    </tr>\n",
              "    <tr>\n",
              "      <th>mean</th>\n",
              "      <td>2.014730</td>\n",
              "      <td>0.340664</td>\n",
              "      <td>0.333402</td>\n",
              "      <td>63.477571</td>\n",
              "      <td>2.505208</td>\n",
              "      <td>2.246705</td>\n",
              "      <td>0.677801</td>\n",
              "      <td>0.696614</td>\n",
              "      <td>9.771494</td>\n",
              "      <td>2.002633</td>\n",
              "      <td>...</td>\n",
              "      <td>0.016361</td>\n",
              "      <td>0.013743</td>\n",
              "      <td>0.030105</td>\n",
              "      <td>0.030105</td>\n",
              "      <td>0.224172</td>\n",
              "      <td>0.303342</td>\n",
              "      <td>0.103015</td>\n",
              "      <td>0.334443</td>\n",
              "      <td>0.148211</td>\n",
              "      <td>1.0</td>\n",
              "    </tr>\n",
              "    <tr>\n",
              "      <th>std</th>\n",
              "      <td>0.816393</td>\n",
              "      <td>0.473991</td>\n",
              "      <td>0.471475</td>\n",
              "      <td>48.311774</td>\n",
              "      <td>1.406569</td>\n",
              "      <td>0.813588</td>\n",
              "      <td>0.467370</td>\n",
              "      <td>0.459799</td>\n",
              "      <td>4.339750</td>\n",
              "      <td>1.256523</td>\n",
              "      <td>...</td>\n",
              "      <td>0.131960</td>\n",
              "      <td>0.121956</td>\n",
              "      <td>0.178431</td>\n",
              "      <td>0.178431</td>\n",
              "      <td>0.417169</td>\n",
              "      <td>0.687894</td>\n",
              "      <td>0.304074</td>\n",
              "      <td>0.700776</td>\n",
              "      <td>0.355373</td>\n",
              "      <td>0.0</td>\n",
              "    </tr>\n",
              "    <tr>\n",
              "      <th>min</th>\n",
              "      <td>1.000000</td>\n",
              "      <td>0.000000</td>\n",
              "      <td>0.000000</td>\n",
              "      <td>1.000000</td>\n",
              "      <td>0.000000</td>\n",
              "      <td>0.000000</td>\n",
              "      <td>0.000000</td>\n",
              "      <td>0.000000</td>\n",
              "      <td>1.000000</td>\n",
              "      <td>0.000000</td>\n",
              "      <td>...</td>\n",
              "      <td>-1.000000</td>\n",
              "      <td>-1.000000</td>\n",
              "      <td>-1.000000</td>\n",
              "      <td>-1.000000</td>\n",
              "      <td>0.000000</td>\n",
              "      <td>0.000000</td>\n",
              "      <td>0.000000</td>\n",
              "      <td>0.000000</td>\n",
              "      <td>0.000000</td>\n",
              "      <td>1.0</td>\n",
              "    </tr>\n",
              "    <tr>\n",
              "      <th>25%</th>\n",
              "      <td>1.000000</td>\n",
              "      <td>0.000000</td>\n",
              "      <td>0.000000</td>\n",
              "      <td>14.000000</td>\n",
              "      <td>2.000000</td>\n",
              "      <td>2.000000</td>\n",
              "      <td>0.000000</td>\n",
              "      <td>0.000000</td>\n",
              "      <td>6.000000</td>\n",
              "      <td>1.029921</td>\n",
              "      <td>...</td>\n",
              "      <td>0.000000</td>\n",
              "      <td>0.000000</td>\n",
              "      <td>0.000000</td>\n",
              "      <td>0.000000</td>\n",
              "      <td>0.000000</td>\n",
              "      <td>0.000000</td>\n",
              "      <td>0.000000</td>\n",
              "      <td>0.000000</td>\n",
              "      <td>0.000000</td>\n",
              "      <td>1.0</td>\n",
              "    </tr>\n",
              "    <tr>\n",
              "      <th>50%</th>\n",
              "      <td>2.000000</td>\n",
              "      <td>0.000000</td>\n",
              "      <td>0.000000</td>\n",
              "      <td>57.000000</td>\n",
              "      <td>2.000000</td>\n",
              "      <td>2.000000</td>\n",
              "      <td>1.000000</td>\n",
              "      <td>1.000000</td>\n",
              "      <td>10.000000</td>\n",
              "      <td>1.674839</td>\n",
              "      <td>...</td>\n",
              "      <td>0.000000</td>\n",
              "      <td>0.000000</td>\n",
              "      <td>0.000000</td>\n",
              "      <td>0.000000</td>\n",
              "      <td>0.000000</td>\n",
              "      <td>0.000000</td>\n",
              "      <td>0.000000</td>\n",
              "      <td>0.000000</td>\n",
              "      <td>0.000000</td>\n",
              "      <td>1.0</td>\n",
              "    </tr>\n",
              "    <tr>\n",
              "      <th>75%</th>\n",
              "      <td>3.000000</td>\n",
              "      <td>1.000000</td>\n",
              "      <td>1.000000</td>\n",
              "      <td>111.000000</td>\n",
              "      <td>2.000000</td>\n",
              "      <td>2.000000</td>\n",
              "      <td>1.000000</td>\n",
              "      <td>1.000000</td>\n",
              "      <td>13.000000</td>\n",
              "      <td>2.742947</td>\n",
              "      <td>...</td>\n",
              "      <td>0.000000</td>\n",
              "      <td>0.000000</td>\n",
              "      <td>0.000000</td>\n",
              "      <td>0.000000</td>\n",
              "      <td>0.000000</td>\n",
              "      <td>0.000000</td>\n",
              "      <td>0.000000</td>\n",
              "      <td>0.189120</td>\n",
              "      <td>0.000000</td>\n",
              "      <td>1.0</td>\n",
              "    </tr>\n",
              "    <tr>\n",
              "      <th>max</th>\n",
              "      <td>3.000000</td>\n",
              "      <td>1.000000</td>\n",
              "      <td>1.000000</td>\n",
              "      <td>145.000000</td>\n",
              "      <td>13.000000</td>\n",
              "      <td>9.000000</td>\n",
              "      <td>1.000000</td>\n",
              "      <td>1.000000</td>\n",
              "      <td>16.000000</td>\n",
              "      <td>5.191559</td>\n",
              "      <td>...</td>\n",
              "      <td>1.000000</td>\n",
              "      <td>1.000000</td>\n",
              "      <td>1.000000</td>\n",
              "      <td>1.000000</td>\n",
              "      <td>1.000000</td>\n",
              "      <td>2.836800</td>\n",
              "      <td>1.000000</td>\n",
              "      <td>2.836800</td>\n",
              "      <td>1.000000</td>\n",
              "      <td>1.0</td>\n",
              "    </tr>\n",
              "  </tbody>\n",
              "</table>\n",
              "<p>8 rows × 127 columns</p>\n",
              "</div>\n",
              "    <div class=\"colab-df-buttons\">\n",
              "\n",
              "  <div class=\"colab-df-container\">\n",
              "    <button class=\"colab-df-convert\" onclick=\"convertToInteractive('df-5f986308-e81c-4177-85d3-18f12a1c5480')\"\n",
              "            title=\"Convert this dataframe to an interactive table.\"\n",
              "            style=\"display:none;\">\n",
              "\n",
              "  <svg xmlns=\"http://www.w3.org/2000/svg\" height=\"24px\" viewBox=\"0 -960 960 960\">\n",
              "    <path d=\"M120-120v-720h720v720H120Zm60-500h600v-160H180v160Zm220 220h160v-160H400v160Zm0 220h160v-160H400v160ZM180-400h160v-160H180v160Zm440 0h160v-160H620v160ZM180-180h160v-160H180v160Zm440 0h160v-160H620v160Z\"/>\n",
              "  </svg>\n",
              "    </button>\n",
              "\n",
              "  <style>\n",
              "    .colab-df-container {\n",
              "      display:flex;\n",
              "      gap: 12px;\n",
              "    }\n",
              "\n",
              "    .colab-df-convert {\n",
              "      background-color: #E8F0FE;\n",
              "      border: none;\n",
              "      border-radius: 50%;\n",
              "      cursor: pointer;\n",
              "      display: none;\n",
              "      fill: #1967D2;\n",
              "      height: 32px;\n",
              "      padding: 0 0 0 0;\n",
              "      width: 32px;\n",
              "    }\n",
              "\n",
              "    .colab-df-convert:hover {\n",
              "      background-color: #E2EBFA;\n",
              "      box-shadow: 0px 1px 2px rgba(60, 64, 67, 0.3), 0px 1px 3px 1px rgba(60, 64, 67, 0.15);\n",
              "      fill: #174EA6;\n",
              "    }\n",
              "\n",
              "    .colab-df-buttons div {\n",
              "      margin-bottom: 4px;\n",
              "    }\n",
              "\n",
              "    [theme=dark] .colab-df-convert {\n",
              "      background-color: #3B4455;\n",
              "      fill: #D2E3FC;\n",
              "    }\n",
              "\n",
              "    [theme=dark] .colab-df-convert:hover {\n",
              "      background-color: #434B5C;\n",
              "      box-shadow: 0px 1px 3px 1px rgba(0, 0, 0, 0.15);\n",
              "      filter: drop-shadow(0px 1px 2px rgba(0, 0, 0, 0.3));\n",
              "      fill: #FFFFFF;\n",
              "    }\n",
              "  </style>\n",
              "\n",
              "    <script>\n",
              "      const buttonEl =\n",
              "        document.querySelector('#df-5f986308-e81c-4177-85d3-18f12a1c5480 button.colab-df-convert');\n",
              "      buttonEl.style.display =\n",
              "        google.colab.kernel.accessAllowed ? 'block' : 'none';\n",
              "\n",
              "      async function convertToInteractive(key) {\n",
              "        const element = document.querySelector('#df-5f986308-e81c-4177-85d3-18f12a1c5480');\n",
              "        const dataTable =\n",
              "          await google.colab.kernel.invokeFunction('convertToInteractive',\n",
              "                                                    [key], {});\n",
              "        if (!dataTable) return;\n",
              "\n",
              "        const docLinkHtml = 'Like what you see? Visit the ' +\n",
              "          '<a target=\"_blank\" href=https://colab.research.google.com/notebooks/data_table.ipynb>data table notebook</a>'\n",
              "          + ' to learn more about interactive tables.';\n",
              "        element.innerHTML = '';\n",
              "        dataTable['output_type'] = 'display_data';\n",
              "        await google.colab.output.renderOutput(dataTable, element);\n",
              "        const docLink = document.createElement('div');\n",
              "        docLink.innerHTML = docLinkHtml;\n",
              "        element.appendChild(docLink);\n",
              "      }\n",
              "    </script>\n",
              "  </div>\n",
              "\n",
              "\n",
              "<div id=\"df-2bd908f1-9f38-4063-b298-1905ec30aa0b\">\n",
              "  <button class=\"colab-df-quickchart\" onclick=\"quickchart('df-2bd908f1-9f38-4063-b298-1905ec30aa0b')\"\n",
              "            title=\"Suggest charts\"\n",
              "            style=\"display:none;\">\n",
              "\n",
              "<svg xmlns=\"http://www.w3.org/2000/svg\" height=\"24px\"viewBox=\"0 0 24 24\"\n",
              "     width=\"24px\">\n",
              "    <g>\n",
              "        <path d=\"M19 3H5c-1.1 0-2 .9-2 2v14c0 1.1.9 2 2 2h14c1.1 0 2-.9 2-2V5c0-1.1-.9-2-2-2zM9 17H7v-7h2v7zm4 0h-2V7h2v10zm4 0h-2v-4h2v4z\"/>\n",
              "    </g>\n",
              "</svg>\n",
              "  </button>\n",
              "\n",
              "<style>\n",
              "  .colab-df-quickchart {\n",
              "      --bg-color: #E8F0FE;\n",
              "      --fill-color: #1967D2;\n",
              "      --hover-bg-color: #E2EBFA;\n",
              "      --hover-fill-color: #174EA6;\n",
              "      --disabled-fill-color: #AAA;\n",
              "      --disabled-bg-color: #DDD;\n",
              "  }\n",
              "\n",
              "  [theme=dark] .colab-df-quickchart {\n",
              "      --bg-color: #3B4455;\n",
              "      --fill-color: #D2E3FC;\n",
              "      --hover-bg-color: #434B5C;\n",
              "      --hover-fill-color: #FFFFFF;\n",
              "      --disabled-bg-color: #3B4455;\n",
              "      --disabled-fill-color: #666;\n",
              "  }\n",
              "\n",
              "  .colab-df-quickchart {\n",
              "    background-color: var(--bg-color);\n",
              "    border: none;\n",
              "    border-radius: 50%;\n",
              "    cursor: pointer;\n",
              "    display: none;\n",
              "    fill: var(--fill-color);\n",
              "    height: 32px;\n",
              "    padding: 0;\n",
              "    width: 32px;\n",
              "  }\n",
              "\n",
              "  .colab-df-quickchart:hover {\n",
              "    background-color: var(--hover-bg-color);\n",
              "    box-shadow: 0 1px 2px rgba(60, 64, 67, 0.3), 0 1px 3px 1px rgba(60, 64, 67, 0.15);\n",
              "    fill: var(--button-hover-fill-color);\n",
              "  }\n",
              "\n",
              "  .colab-df-quickchart-complete:disabled,\n",
              "  .colab-df-quickchart-complete:disabled:hover {\n",
              "    background-color: var(--disabled-bg-color);\n",
              "    fill: var(--disabled-fill-color);\n",
              "    box-shadow: none;\n",
              "  }\n",
              "\n",
              "  .colab-df-spinner {\n",
              "    border: 2px solid var(--fill-color);\n",
              "    border-color: transparent;\n",
              "    border-bottom-color: var(--fill-color);\n",
              "    animation:\n",
              "      spin 1s steps(1) infinite;\n",
              "  }\n",
              "\n",
              "  @keyframes spin {\n",
              "    0% {\n",
              "      border-color: transparent;\n",
              "      border-bottom-color: var(--fill-color);\n",
              "      border-left-color: var(--fill-color);\n",
              "    }\n",
              "    20% {\n",
              "      border-color: transparent;\n",
              "      border-left-color: var(--fill-color);\n",
              "      border-top-color: var(--fill-color);\n",
              "    }\n",
              "    30% {\n",
              "      border-color: transparent;\n",
              "      border-left-color: var(--fill-color);\n",
              "      border-top-color: var(--fill-color);\n",
              "      border-right-color: var(--fill-color);\n",
              "    }\n",
              "    40% {\n",
              "      border-color: transparent;\n",
              "      border-right-color: var(--fill-color);\n",
              "      border-top-color: var(--fill-color);\n",
              "    }\n",
              "    60% {\n",
              "      border-color: transparent;\n",
              "      border-right-color: var(--fill-color);\n",
              "    }\n",
              "    80% {\n",
              "      border-color: transparent;\n",
              "      border-right-color: var(--fill-color);\n",
              "      border-bottom-color: var(--fill-color);\n",
              "    }\n",
              "    90% {\n",
              "      border-color: transparent;\n",
              "      border-bottom-color: var(--fill-color);\n",
              "    }\n",
              "  }\n",
              "</style>\n",
              "\n",
              "  <script>\n",
              "    async function quickchart(key) {\n",
              "      const quickchartButtonEl =\n",
              "        document.querySelector('#' + key + ' button');\n",
              "      quickchartButtonEl.disabled = true;  // To prevent multiple clicks.\n",
              "      quickchartButtonEl.classList.add('colab-df-spinner');\n",
              "      try {\n",
              "        const charts = await google.colab.kernel.invokeFunction(\n",
              "            'suggestCharts', [key], {});\n",
              "      } catch (error) {\n",
              "        console.error('Error during call to suggestCharts:', error);\n",
              "      }\n",
              "      quickchartButtonEl.classList.remove('colab-df-spinner');\n",
              "      quickchartButtonEl.classList.add('colab-df-quickchart-complete');\n",
              "    }\n",
              "    (() => {\n",
              "      let quickchartButtonEl =\n",
              "        document.querySelector('#df-2bd908f1-9f38-4063-b298-1905ec30aa0b button');\n",
              "      quickchartButtonEl.style.display =\n",
              "        google.colab.kernel.accessAllowed ? 'block' : 'none';\n",
              "    })();\n",
              "  </script>\n",
              "</div>\n",
              "\n",
              "    </div>\n",
              "  </div>\n"
            ],
            "application/vnd.google.colaboratory.intrinsic+json": {
              "type": "dataframe"
            }
          },
          "metadata": {},
          "execution_count": 15
        }
      ]
    },
    {
      "cell_type": "code",
      "source": [
        "def permutate_hiv(w_df, random = True):\n",
        "  df = w_df.copy()\n",
        "  if random:\n",
        "    df = df.sample(frac = 1).reset_index(drop = True)\n",
        "\n",
        "  df['any'] = 0\n",
        "  df.loc[:int(np.ceil(len(df) / 2)) - 1, \"any\"] = 1\n",
        "\n",
        "  te1 = df.loc[df['any'] == 1,'got'].mean()\n",
        "  te0 = df.loc[df['any'] == 0,'got'].mean()\n",
        "  ate = te1 - te0\n",
        "  return ate"
      ],
      "metadata": {
        "id": "yiVkwduryRRV"
      },
      "execution_count": 52,
      "outputs": []
    },
    {
      "cell_type": "code",
      "source": [
        "iter = 1000\n",
        "first =np.array([permutate_hiv(thr_data, random = False)])\n",
        "res = np.array([permutate_hiv(thr_data) for _ in range(iter-1)])\n",
        "iter_samples = [np.sort(np.concatenate((first, res[:n-1]))) for n in [100, 500, 1000]]\n"
      ],
      "metadata": {
        "id": "FlN0dXgu0YyF"
      },
      "execution_count": 53,
      "outputs": []
    },
    {
      "cell_type": "code",
      "source": [
        "\n",
        "p_values = [(n,(iter_sample >= first[0]).mean().item()) for n,iter_sample in zip([100,500,1000],iter_samples)]"
      ],
      "metadata": {
        "id": "ra4kLda_-ufp"
      },
      "execution_count": 49,
      "outputs": []
    },
    {
      "cell_type": "code",
      "source": [
        "print(p_values)"
      ],
      "metadata": {
        "colab": {
          "base_uri": "https://localhost:8080/"
        },
        "id": "aqa4T0dU-1bh",
        "outputId": "474af5f4-37f6-4e62-f95f-ebd320adae14"
      },
      "execution_count": 50,
      "outputs": [
        {
          "output_type": "stream",
          "name": "stdout",
          "text": [
            "[(100, 0.01), (500, 0.002), (1000, 0.001)]\n"
          ]
        }
      ]
    },
    {
      "cell_type": "code",
      "source": [
        "print(np.round(first[0],3))"
      ],
      "metadata": {
        "colab": {
          "base_uri": "https://localhost:8080/"
        },
        "id": "CWySductISsN",
        "outputId": "66ca9664-04e0-4480-a90b-91305182f510"
      },
      "execution_count": 51,
      "outputs": [
        {
          "output_type": "stream",
          "name": "stdout",
          "text": [
            "0.083\n"
          ]
        }
      ]
    }
  ]
}